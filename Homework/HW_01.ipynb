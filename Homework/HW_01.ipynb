{
 "cells": [
  {
   "cell_type": "markdown",
   "id": "200dd157",
   "metadata": {},
   "source": [
    "# Homework 01\n",
    "## Benjamin Salvo"
   ]
  },
  {
   "cell_type": "markdown",
   "id": "4af0ffe8",
   "metadata": {},
   "source": [
    "__Question 1:__ Use a programming language of your choice to save today's date to a variable.\n",
    "Then, include the date in the text below the code block."
   ]
  },
  {
   "cell_type": "code",
   "execution_count": 6,
   "id": "bae472b3",
   "metadata": {},
   "outputs": [
    {
     "data": {
      "text/plain": [
       "'2025-10-13'"
      ]
     },
     "execution_count": 6,
     "metadata": {},
     "output_type": "execute_result"
    }
   ],
   "source": [
    "from datetime import datetime   \n",
    "datetime.today().strftime('%Y-%m-%d')"
   ]
  },
  {
   "cell_type": "code",
   "execution_count": 7,
   "id": "694361f4",
   "metadata": {},
   "outputs": [
    {
     "name": "stdout",
     "output_type": "stream",
     "text": [
      "2025-10-13\n"
     ]
    }
   ],
   "source": [
    "from datetime import date\n",
    "\n",
    "# Save today's date to a variable   \n",
    "today = date.today()            \n",
    "print(today)"
   ]
  }
 ],
 "metadata": {
  "kernelspec": {
   "display_name": "Python 3",
   "language": "python",
   "name": "python3"
  },
  "language_info": {
   "codemirror_mode": {
    "name": "ipython",
    "version": 3
   },
   "file_extension": ".py",
   "mimetype": "text/x-python",
   "name": "python",
   "nbconvert_exporter": "python",
   "pygments_lexer": "ipython3",
   "version": "3.13.7"
  }
 },
 "nbformat": 4,
 "nbformat_minor": 5
}
